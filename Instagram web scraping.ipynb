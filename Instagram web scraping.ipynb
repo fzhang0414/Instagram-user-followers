{
 "cells": [
  {
   "cell_type": "code",
   "execution_count": 1,
   "metadata": {},
   "outputs": [],
   "source": [
    "import requests\n",
    "import urllib.request\n",
    "import urllib.parse\n",
    "import urllib.error\n",
    "from bs4 import BeautifulSoup\n",
    "import ssl\n",
    "import json"
   ]
  },
  {
   "cell_type": "code",
   "execution_count": 2,
   "metadata": {},
   "outputs": [],
   "source": [
    "class User_follow_posts:\n",
    "\n",
    "    def collect_info(self, url):\n",
    "        html = urllib.request.urlopen(url, context=self.ctx).read()\n",
    "        soup = BeautifulSoup(html, 'html.parser')\n",
    "        data = soup.find_all('meta', attrs={'property': 'og:description'\n",
    "                                           })\n",
    "        text = data[0].get('content').split()\n",
    "        user = '%s %s %s' % (text[-3], text[-2], text[-1])\n",
    "        followers = text[0]\n",
    "        following = text[2]\n",
    "        posts = text[4]\n",
    "        print ('User_name:', user)\n",
    "        print ('# of Followers:', followers)\n",
    "        print ('# of Following:', following)\n",
    "        print ('Posts:', posts)\n",
    "        print ('---------------------------')\n",
    "\n",
    "    def main(self):\n",
    "        self.ctx = ssl.create_default_context()\n",
    "        self.ctx.check_hostname = False\n",
    "        self.ctx.verify_mode = ssl.CERT_NONE\n",
    "\n",
    "        with open('users.txt') as f:\n",
    "            self.content = f.readlines()\n",
    "        self.content = [x.strip() for x in self.content]\n",
    "\n",
    "        for url in self.content:\n",
    "            self.collect_info(url)"
   ]
  },
  {
   "cell_type": "code",
   "execution_count": 3,
   "metadata": {},
   "outputs": [
    {
     "name": "stdout",
     "output_type": "stream",
     "text": [
      "User_name: Cristiano Ronaldo (@cristiano)\n",
      "# of Followers: 209.3m\n",
      "# of Following: 439\n",
      "Posts: 2,779\n",
      "---------------------------\n",
      "User_name: Taylor Swift (@taylorswift)\n",
      "# of Followers: 128.8m\n",
      "# of Following: 0\n",
      "Posts: 434\n",
      "---------------------------\n",
      "User_name: 👻 neymarjr (@neymarjr)\n",
      "# of Followers: 136.1m\n",
      "# of Following: 1,212\n",
      "Posts: 4,697\n",
      "---------------------------\n",
      "User_name: Justin Bieber (@justinbieber)\n",
      "# of Followers: 130.7m\n",
      "# of Following: 380\n",
      "Posts: 5,331\n",
      "---------------------------\n"
     ]
    }
   ],
   "source": [
    "if __name__ == '__main__':\n",
    "    obj = User_follow_posts()\n",
    "    obj.main()"
   ]
  }
 ],
 "metadata": {
  "kernelspec": {
   "display_name": "Python 3",
   "language": "python",
   "name": "python3"
  },
  "language_info": {
   "codemirror_mode": {
    "name": "ipython",
    "version": 3
   },
   "file_extension": ".py",
   "mimetype": "text/x-python",
   "name": "python",
   "nbconvert_exporter": "python",
   "pygments_lexer": "ipython3",
   "version": "3.7.3"
  }
 },
 "nbformat": 4,
 "nbformat_minor": 2
}
